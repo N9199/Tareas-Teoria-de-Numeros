{
 "cells": [
  {
   "cell_type": "code",
   "execution_count": 1,
   "metadata": {},
   "outputs": [],
   "source": [
    "N = 6\n",
    "E = EllipticCurve([0,4*N*N+12*N-3,0,32*(N+3),0])"
   ]
  },
  {
   "cell_type": "code",
   "execution_count": 2,
   "metadata": {},
   "outputs": [
    {
     "data": {
      "text/plain": [
       "Elliptic Curve defined by y^2 = x^3 + 213*x^2 + 288*x over Rational Field"
      ]
     },
     "execution_count": 137,
     "metadata": {},
     "output_type": "execute_result"
    }
   ],
   "source": [
    "E"
   ]
  },
  {
   "cell_type": "code",
   "execution_count": 3,
   "metadata": {},
   "outputs": [],
   "source": [
    "P = E(-8,104) # E(-8,104) #Punto encontrado que pertenece a la curva y da una solución para la ecuación original"
   ]
  },
  {
   "cell_type": "code",
   "execution_count": 4,
   "metadata": {},
   "outputs": [],
   "source": [
    "def point_to_sol(P):\n",
    "    a = (8*(N+3)-P[0]+P[1])/(2*(4-P[0])*(N+3))\n",
    "    b = (8*(N+3)-P[0]-P[1])/(2*(4-P[0])*(N+3))\n",
    "    c = (-4*(N+3)-(N+2)*P[0])/((4-P[0])*(N+3))\n",
    "    temp = a.content([b,c])\n",
    "    a/=temp\n",
    "    b/=temp\n",
    "    c/=temp\n",
    "    assert(1/temp == a+b+c)\n",
    "    return [a,b,c]\n"
   ]
  },
  {
   "cell_type": "code",
   "execution_count": 5,
   "metadata": {},
   "outputs": [],
   "source": [
    "def eq(a,b,c):\n",
    "    return a/(b+c)+b/(a+c)+c/(a+b)"
   ]
  },
  {
   "cell_type": "code",
   "execution_count": 6,
   "metadata": {},
   "outputs": [
    {
     "name": "stdout",
     "output_type": "stream",
     "text": [
      "[23, -3, 7]\n"
     ]
    }
   ],
   "source": [
    "asdf = point_to_sol(P)\n",
    "print(asdf)"
   ]
  },
  {
   "cell_type": "code",
   "execution_count": 7,
   "metadata": {},
   "outputs": [
    {
     "name": "stdout",
     "output_type": "stream",
     "text": [
      "[26304, 12605, -24869]\n",
      "[-7010997913, 9962121367, 14741015373]\n",
      "[344600079128906665, -399635339857662336, 423865825845143591]\n",
      "[5289522737323629458801572077, 5601501004856850884990304823, -3709408926756435263894180473]\n",
      "[-3947273214056112611641932285192198633259, 3778570377038559830581535407335117997939, 4070627436031293758660082617456391013440]\n",
      "[1135765668330055092250323976085973407298527010733979623, -815923886178656038947477254264840525058302026190395683, 1414401999299585078135301950024835142145003502627648887]\n",
      "[16289328882340965120515308879714559149588601003364769362936593893145856, 25281620419320048351768026986562305577512151706265133292320809015221455, -23653053272182405114504253854907737996871323554596696886558694080263471]\n",
      "[-64717948697678464838747111173776757364272678503865274880411181224711461102283679136152793, 214449816774943558249504736256427289876763007256465315522205958764758802564515862112581047, 103628367595578987091419134117399744176328895734801141764805532010539626795539699048159773]\n",
      "[92107332003270792067767553725416294654721595750665584113901591308391184024376586589667869747157372710541019275, -89538305283456477498663693926361732820926189248425318358147867876247902898624183909917412197607224560490524224, 20896999013801002522426402938151836792621476479275865314476738857747782720578088533147052708518040528357255149]\n",
      "[20260869859883222379931520298326390700152988332214525711323500132179943287700005601210288797153868533207131302477269470450828233936557, 1218343242702905855792264237868803223073090298310121297526752830558323845503910071851999217959704024280699759290559009162035102974023, 2250324022012683866886426461942494811141200084921223218461967377588564477616220767789632257358521952443049813799712386367623925971447]\n"
     ]
    }
   ],
   "source": [
    "A = E(-8,104)\n",
    "temp = point_to_sol(A)\n",
    "counter = 1\n",
    "while temp[0] < 0 or temp[1] < 0 or temp[2] < 0:\n",
    "    counter += 1\n",
    "    A += P\n",
    "    temp = point_to_sol(A)\n",
    "    print(temp)"
   ]
  },
  {
   "cell_type": "code",
   "execution_count": 8,
   "metadata": {},
   "outputs": [
    {
     "data": {
      "text/plain": [
       "11"
      ]
     },
     "execution_count": 152,
     "metadata": {},
     "output_type": "execute_result"
    }
   ],
   "source": [
    "counter"
   ]
  },
  {
   "cell_type": "code",
   "execution_count": 9,
   "metadata": {},
   "outputs": [
    {
     "name": "stdout",
     "output_type": "stream",
     "text": [
      "[20260869859883222379931520298326390700152988332214525711323500132179943287700005601210288797153868533207131302477269470450828233936557, 1218343242702905855792264237868803223073090298310121297526752830558323845503910071851999217959704024280699759290559009162035102974023, 2250324022012683866886426461942494811141200084921223218461967377588564477616220767789632257358521952443049813799712386367623925971447]\n"
     ]
    }
   ],
   "source": [
    "print(temp)"
   ]
  },
  {
   "cell_type": "code",
   "execution_count": 10,
   "metadata": {},
   "outputs": [
    {
     "data": {
      "text/plain": [
       "6"
      ]
     },
     "execution_count": 154,
     "metadata": {},
     "output_type": "execute_result"
    }
   ],
   "source": [
    "eq(*temp)"
   ]
  },
  {
   "cell_type": "code",
   "execution_count": null,
   "metadata": {},
   "outputs": [],
   "source": []
  }
 ],
 "metadata": {
  "kernelspec": {
   "display_name": "SageMath 8.3",
   "language": "",
   "name": "sagemath"
  },
  "language_info": {
   "codemirror_mode": {
    "name": "ipython",
    "version": 2
   },
   "file_extension": ".py",
   "mimetype": "text/x-python",
   "name": "python",
   "nbconvert_exporter": "python",
   "pygments_lexer": "ipython2",
   "version": "2.7.15"
  }
 },
 "nbformat": 4,
 "nbformat_minor": 2
}
